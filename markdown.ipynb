{
 "cells": [
  {
   "cell_type": "markdown",
   "id": "9b6a2048-76f0-4dfe-b61c-b39580fa448f",
   "metadata": {},
   "source": [
    "# Creating a markdown\n",
    "\n",
    "This file shows the use of markdowns in Jupyter Notebooks"
   ]
  },
  {
   "cell_type": "markdown",
   "id": "e87af88c-353d-4ff8-aa46-50716cd34408",
   "metadata": {},
   "source": [
    "## The following cell executes Python code"
   ]
  },
  {
   "cell_type": "code",
   "execution_count": 1,
   "id": "43df0d82-1af0-4a6b-aa29-246dd4ff1261",
   "metadata": {},
   "outputs": [
    {
     "name": "stdout",
     "output_type": "stream",
     "text": [
      "Hello world!\n"
     ]
    }
   ],
   "source": [
    "print(\"Hello world!\")"
   ]
  },
  {
   "cell_type": "code",
   "execution_count": null,
   "id": "46ab7c8b-93a8-46e1-a97a-ddeeb84b2d50",
   "metadata": {},
   "outputs": [],
   "source": []
  }
 ],
 "metadata": {
  "kernelspec": {
   "display_name": "Python 3 (ipykernel)",
   "language": "python",
   "name": "python3"
  },
  "language_info": {
   "codemirror_mode": {
    "name": "ipython",
    "version": 3
   },
   "file_extension": ".py",
   "mimetype": "text/x-python",
   "name": "python",
   "nbconvert_exporter": "python",
   "pygments_lexer": "ipython3",
   "version": "3.8.18"
  }
 },
 "nbformat": 4,
 "nbformat_minor": 5
}
